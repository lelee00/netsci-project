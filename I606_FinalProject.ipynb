{
 "cells": [
  {
   "cell_type": "code",
   "execution_count": 2,
   "metadata": {},
   "outputs": [],
   "source": [
    "import networkx as nx\n",
    "import numpy as np \n",
    "import pandas as pd\n",
    "import regex as re\n",
    "import requests\n",
    "import matplotlib.pyplot as plt\n",
    "from scipy import stats\n",
    "from bs4 import BeautifulSoup\n",
    "import re\n",
    "from selenium import webdriver\n",
    "from selenium.webdriver.common.keys import Keys\n"
   ]
  },
  {
   "cell_type": "code",
   "execution_count": 3,
   "metadata": {},
   "outputs": [
    {
     "data": {
      "text/html": [
       "<div>\n",
       "<style scoped>\n",
       "    .dataframe tbody tr th:only-of-type {\n",
       "        vertical-align: middle;\n",
       "    }\n",
       "\n",
       "    .dataframe tbody tr th {\n",
       "        vertical-align: top;\n",
       "    }\n",
       "\n",
       "    .dataframe thead th {\n",
       "        text-align: right;\n",
       "    }\n",
       "</style>\n",
       "<table border=\"1\" class=\"dataframe\">\n",
       "  <thead>\n",
       "    <tr style=\"text-align: right;\">\n",
       "      <th></th>\n",
       "      <th>symbol</th>\n",
       "      <th>datekey</th>\n",
       "      <th>close</th>\n",
       "      <th>previous_close</th>\n",
       "      <th>percent_diff</th>\n",
       "      <th>direction</th>\n",
       "      <th>company_name</th>\n",
       "      <th>sector</th>\n",
       "    </tr>\n",
       "  </thead>\n",
       "  <tbody>\n",
       "    <tr>\n",
       "      <th>0</th>\n",
       "      <td>A</td>\n",
       "      <td>d1</td>\n",
       "      <td>101.120003</td>\n",
       "      <td>100.419998</td>\n",
       "      <td>0.0070</td>\n",
       "      <td>Same</td>\n",
       "      <td>Agilent Technologies Inc</td>\n",
       "      <td>Health Care</td>\n",
       "    </tr>\n",
       "    <tr>\n",
       "      <th>1</th>\n",
       "      <td>A</td>\n",
       "      <td>d2</td>\n",
       "      <td>103.419998</td>\n",
       "      <td>101.120003</td>\n",
       "      <td>0.0227</td>\n",
       "      <td>Same</td>\n",
       "      <td>Agilent Technologies Inc</td>\n",
       "      <td>Health Care</td>\n",
       "    </tr>\n",
       "    <tr>\n",
       "      <th>2</th>\n",
       "      <td>A</td>\n",
       "      <td>d3</td>\n",
       "      <td>99.639999</td>\n",
       "      <td>103.419998</td>\n",
       "      <td>-0.0365</td>\n",
       "      <td>Down</td>\n",
       "      <td>Agilent Technologies Inc</td>\n",
       "      <td>Health Care</td>\n",
       "    </tr>\n",
       "    <tr>\n",
       "      <th>3</th>\n",
       "      <td>A</td>\n",
       "      <td>d4</td>\n",
       "      <td>96.839996</td>\n",
       "      <td>99.639999</td>\n",
       "      <td>-0.0281</td>\n",
       "      <td>Same</td>\n",
       "      <td>Agilent Technologies Inc</td>\n",
       "      <td>Health Care</td>\n",
       "    </tr>\n",
       "    <tr>\n",
       "      <th>4</th>\n",
       "      <td>A</td>\n",
       "      <td>d8</td>\n",
       "      <td>95.139999</td>\n",
       "      <td>96.839996</td>\n",
       "      <td>-0.0176</td>\n",
       "      <td>Same</td>\n",
       "      <td>Agilent Technologies Inc</td>\n",
       "      <td>Health Care</td>\n",
       "    </tr>\n",
       "  </tbody>\n",
       "</table>\n",
       "</div>"
      ],
      "text/plain": [
       "  symbol datekey       close  previous_close  percent_diff direction  \\\n",
       "0      A      d1  101.120003      100.419998        0.0070      Same   \n",
       "1      A      d2  103.419998      101.120003        0.0227      Same   \n",
       "2      A      d3   99.639999      103.419998       -0.0365      Down   \n",
       "3      A      d4   96.839996       99.639999       -0.0281      Same   \n",
       "4      A      d8   95.139999       96.839996       -0.0176      Same   \n",
       "\n",
       "               company_name       sector  \n",
       "0  Agilent Technologies Inc  Health Care  \n",
       "1  Agilent Technologies Inc  Health Care  \n",
       "2  Agilent Technologies Inc  Health Care  \n",
       "3  Agilent Technologies Inc  Health Care  \n",
       "4  Agilent Technologies Inc  Health Care  "
      ]
     },
     "execution_count": 3,
     "metadata": {},
     "output_type": "execute_result"
    }
   ],
   "source": [
    "data = pd.read_csv('sp500_Sep2020.csv', encoding=\"cp1252\")\n",
    "data.head()"
   ]
  },
  {
   "cell_type": "code",
   "execution_count": 83,
   "metadata": {},
   "outputs": [],
   "source": [
    "sp500 = [data.symbol.unique()][0]"
   ]
  },
  {
   "cell_type": "code",
   "execution_count": 4,
   "metadata": {},
   "outputs": [],
   "source": [
    "# all_data = pd.DataFrame(columns=['Date','Open','High','Low','Close','Adj Close','Volume','symbol'])\n",
    "all_data = pd.read_csv('sp500_2122.csv')"
   ]
  },
  {
   "cell_type": "code",
   "execution_count": 87,
   "metadata": {},
   "outputs": [],
   "source": [
    "# base = 'https://www.finance.yahoo.com/quote/'\n",
    "# midend = '/history?p='\n",
    "# hist_links = [base + tick + midend + tick for tick in sp500]"
   ]
  },
  {
   "cell_type": "code",
   "execution_count": null,
   "metadata": {},
   "outputs": [],
   "source": [
    "# i = 0\n",
    "# for url in hist_links:\n",
    "#     browser = webdriver.Chrome(executable_path='/Users/lelee1/Desktop/I606/chromedriver')\n",
    "#     browser.get(url)\n",
    "#     soup = BeautifulSoup(browser.page_source)\n",
    "#     tick = sp500[i]\n",
    "#     try:\n",
    "#         for a in soup.find_all('a', class_ = 'Fl(end) Mt(3px) Cur(p)'):\n",
    "#             df = pd.read_csv(a.get('href'))\n",
    "#             df = df.assign(symbol = str(tick))\n",
    "#             all_data = all_data.append(df, ignore_index=True)\n",
    "#     except:\n",
    "#         pass\n",
    "#     i += 1\n",
    "    "
   ]
  },
  {
   "cell_type": "code",
   "execution_count": 127,
   "metadata": {},
   "outputs": [],
   "source": [
    "# all_data.to_csv('sp500_2122.csv', index = False)"
   ]
  },
  {
   "cell_type": "code",
   "execution_count": 5,
   "metadata": {},
   "outputs": [
    {
     "data": {
      "text/html": [
       "<div>\n",
       "<style scoped>\n",
       "    .dataframe tbody tr th:only-of-type {\n",
       "        vertical-align: middle;\n",
       "    }\n",
       "\n",
       "    .dataframe tbody tr th {\n",
       "        vertical-align: top;\n",
       "    }\n",
       "\n",
       "    .dataframe thead th {\n",
       "        text-align: right;\n",
       "    }\n",
       "</style>\n",
       "<table border=\"1\" class=\"dataframe\">\n",
       "  <thead>\n",
       "    <tr style=\"text-align: right;\">\n",
       "      <th></th>\n",
       "      <th>Date</th>\n",
       "      <th>Open</th>\n",
       "      <th>High</th>\n",
       "      <th>Low</th>\n",
       "      <th>Close</th>\n",
       "      <th>Adj Close</th>\n",
       "      <th>Volume</th>\n",
       "      <th>symbol</th>\n",
       "    </tr>\n",
       "  </thead>\n",
       "  <tbody>\n",
       "    <tr>\n",
       "      <th>0</th>\n",
       "      <td>2021-05-03</td>\n",
       "      <td>134.289993</td>\n",
       "      <td>134.309998</td>\n",
       "      <td>132.610001</td>\n",
       "      <td>133.190002</td>\n",
       "      <td>132.467026</td>\n",
       "      <td>1032000</td>\n",
       "      <td>A</td>\n",
       "    </tr>\n",
       "    <tr>\n",
       "      <th>1</th>\n",
       "      <td>2021-05-04</td>\n",
       "      <td>132.119995</td>\n",
       "      <td>132.509995</td>\n",
       "      <td>130.350006</td>\n",
       "      <td>130.899994</td>\n",
       "      <td>130.189438</td>\n",
       "      <td>1752400</td>\n",
       "      <td>A</td>\n",
       "    </tr>\n",
       "    <tr>\n",
       "      <th>2</th>\n",
       "      <td>2021-05-05</td>\n",
       "      <td>132.089996</td>\n",
       "      <td>134.089996</td>\n",
       "      <td>131.250000</td>\n",
       "      <td>133.369995</td>\n",
       "      <td>132.646042</td>\n",
       "      <td>1430600</td>\n",
       "      <td>A</td>\n",
       "    </tr>\n",
       "    <tr>\n",
       "      <th>3</th>\n",
       "      <td>2021-05-06</td>\n",
       "      <td>132.309998</td>\n",
       "      <td>132.600006</td>\n",
       "      <td>130.770004</td>\n",
       "      <td>132.399994</td>\n",
       "      <td>131.681305</td>\n",
       "      <td>1150400</td>\n",
       "      <td>A</td>\n",
       "    </tr>\n",
       "    <tr>\n",
       "      <th>4</th>\n",
       "      <td>2021-05-07</td>\n",
       "      <td>133.190002</td>\n",
       "      <td>134.820007</td>\n",
       "      <td>133.190002</td>\n",
       "      <td>133.899994</td>\n",
       "      <td>133.173157</td>\n",
       "      <td>1044200</td>\n",
       "      <td>A</td>\n",
       "    </tr>\n",
       "    <tr>\n",
       "      <th>...</th>\n",
       "      <td>...</td>\n",
       "      <td>...</td>\n",
       "      <td>...</td>\n",
       "      <td>...</td>\n",
       "      <td>...</td>\n",
       "      <td>...</td>\n",
       "      <td>...</td>\n",
       "      <td>...</td>\n",
       "    </tr>\n",
       "    <tr>\n",
       "      <th>115639</th>\n",
       "      <td>2022-04-27</td>\n",
       "      <td>177.929993</td>\n",
       "      <td>180.229996</td>\n",
       "      <td>177.059998</td>\n",
       "      <td>178.470001</td>\n",
       "      <td>178.470001</td>\n",
       "      <td>1621200</td>\n",
       "      <td>ZTS</td>\n",
       "    </tr>\n",
       "    <tr>\n",
       "      <th>115640</th>\n",
       "      <td>2022-04-28</td>\n",
       "      <td>179.080002</td>\n",
       "      <td>182.220001</td>\n",
       "      <td>178.179993</td>\n",
       "      <td>181.309998</td>\n",
       "      <td>181.309998</td>\n",
       "      <td>2339000</td>\n",
       "      <td>ZTS</td>\n",
       "    </tr>\n",
       "    <tr>\n",
       "      <th>115641</th>\n",
       "      <td>2022-04-29</td>\n",
       "      <td>180.000000</td>\n",
       "      <td>181.860001</td>\n",
       "      <td>176.789993</td>\n",
       "      <td>177.250000</td>\n",
       "      <td>177.250000</td>\n",
       "      <td>2251800</td>\n",
       "      <td>ZTS</td>\n",
       "    </tr>\n",
       "    <tr>\n",
       "      <th>115642</th>\n",
       "      <td>2022-05-02</td>\n",
       "      <td>176.389999</td>\n",
       "      <td>177.250000</td>\n",
       "      <td>171.550003</td>\n",
       "      <td>174.669998</td>\n",
       "      <td>174.669998</td>\n",
       "      <td>3513000</td>\n",
       "      <td>ZTS</td>\n",
       "    </tr>\n",
       "    <tr>\n",
       "      <th>115643</th>\n",
       "      <td>2022-05-03</td>\n",
       "      <td>174.679993</td>\n",
       "      <td>176.871399</td>\n",
       "      <td>173.589996</td>\n",
       "      <td>174.024994</td>\n",
       "      <td>174.024994</td>\n",
       "      <td>1219439</td>\n",
       "      <td>ZTS</td>\n",
       "    </tr>\n",
       "  </tbody>\n",
       "</table>\n",
       "<p>115644 rows × 8 columns</p>\n",
       "</div>"
      ],
      "text/plain": [
       "              Date        Open        High         Low       Close  \\\n",
       "0       2021-05-03  134.289993  134.309998  132.610001  133.190002   \n",
       "1       2021-05-04  132.119995  132.509995  130.350006  130.899994   \n",
       "2       2021-05-05  132.089996  134.089996  131.250000  133.369995   \n",
       "3       2021-05-06  132.309998  132.600006  130.770004  132.399994   \n",
       "4       2021-05-07  133.190002  134.820007  133.190002  133.899994   \n",
       "...            ...         ...         ...         ...         ...   \n",
       "115639  2022-04-27  177.929993  180.229996  177.059998  178.470001   \n",
       "115640  2022-04-28  179.080002  182.220001  178.179993  181.309998   \n",
       "115641  2022-04-29  180.000000  181.860001  176.789993  177.250000   \n",
       "115642  2022-05-02  176.389999  177.250000  171.550003  174.669998   \n",
       "115643  2022-05-03  174.679993  176.871399  173.589996  174.024994   \n",
       "\n",
       "         Adj Close   Volume symbol  \n",
       "0       132.467026  1032000      A  \n",
       "1       130.189438  1752400      A  \n",
       "2       132.646042  1430600      A  \n",
       "3       131.681305  1150400      A  \n",
       "4       133.173157  1044200      A  \n",
       "...            ...      ...    ...  \n",
       "115639  178.470001  1621200    ZTS  \n",
       "115640  181.309998  2339000    ZTS  \n",
       "115641  177.250000  2251800    ZTS  \n",
       "115642  174.669998  3513000    ZTS  \n",
       "115643  174.024994  1219439    ZTS  \n",
       "\n",
       "[115644 rows x 8 columns]"
      ]
     },
     "execution_count": 5,
     "metadata": {},
     "output_type": "execute_result"
    }
   ],
   "source": [
    "all_data"
   ]
  },
  {
   "cell_type": "code",
   "execution_count": 6,
   "metadata": {},
   "outputs": [
    {
     "data": {
      "text/html": [
       "<div>\n",
       "<style scoped>\n",
       "    .dataframe tbody tr th:only-of-type {\n",
       "        vertical-align: middle;\n",
       "    }\n",
       "\n",
       "    .dataframe tbody tr th {\n",
       "        vertical-align: top;\n",
       "    }\n",
       "\n",
       "    .dataframe thead th {\n",
       "        text-align: right;\n",
       "    }\n",
       "</style>\n",
       "<table border=\"1\" class=\"dataframe\">\n",
       "  <thead>\n",
       "    <tr style=\"text-align: right;\">\n",
       "      <th></th>\n",
       "      <th>symbol</th>\n",
       "      <th>date_count</th>\n",
       "    </tr>\n",
       "  </thead>\n",
       "  <tbody>\n",
       "    <tr>\n",
       "      <th>0</th>\n",
       "      <td>A</td>\n",
       "      <td>327</td>\n",
       "    </tr>\n",
       "    <tr>\n",
       "      <th>1</th>\n",
       "      <td>AAL</td>\n",
       "      <td>255</td>\n",
       "    </tr>\n",
       "    <tr>\n",
       "      <th>2</th>\n",
       "      <td>AAP</td>\n",
       "      <td>254</td>\n",
       "    </tr>\n",
       "    <tr>\n",
       "      <th>3</th>\n",
       "      <td>AAPL</td>\n",
       "      <td>254</td>\n",
       "    </tr>\n",
       "    <tr>\n",
       "      <th>4</th>\n",
       "      <td>ABBV</td>\n",
       "      <td>254</td>\n",
       "    </tr>\n",
       "    <tr>\n",
       "      <th>...</th>\n",
       "      <td>...</td>\n",
       "      <td>...</td>\n",
       "    </tr>\n",
       "    <tr>\n",
       "      <th>450</th>\n",
       "      <td>YUM</td>\n",
       "      <td>254</td>\n",
       "    </tr>\n",
       "    <tr>\n",
       "      <th>451</th>\n",
       "      <td>ZBH</td>\n",
       "      <td>254</td>\n",
       "    </tr>\n",
       "    <tr>\n",
       "      <th>452</th>\n",
       "      <td>ZBRA</td>\n",
       "      <td>254</td>\n",
       "    </tr>\n",
       "    <tr>\n",
       "      <th>453</th>\n",
       "      <td>ZION</td>\n",
       "      <td>254</td>\n",
       "    </tr>\n",
       "    <tr>\n",
       "      <th>454</th>\n",
       "      <td>ZTS</td>\n",
       "      <td>254</td>\n",
       "    </tr>\n",
       "  </tbody>\n",
       "</table>\n",
       "<p>455 rows × 2 columns</p>\n",
       "</div>"
      ],
      "text/plain": [
       "    symbol  date_count\n",
       "0        A         327\n",
       "1      AAL         255\n",
       "2      AAP         254\n",
       "3     AAPL         254\n",
       "4     ABBV         254\n",
       "..     ...         ...\n",
       "450    YUM         254\n",
       "451    ZBH         254\n",
       "452   ZBRA         254\n",
       "453   ZION         254\n",
       "454    ZTS         254\n",
       "\n",
       "[455 rows x 2 columns]"
      ]
     },
     "execution_count": 6,
     "metadata": {},
     "output_type": "execute_result"
    }
   ],
   "source": [
    "pd.DataFrame({'date_count': all_data.groupby(['symbol']).size()}).\\\n",
    "sort_values(by=[\"date_count\",\"symbol\"], ascending= [False,True]).\\\n",
    "reset_index()"
   ]
  },
  {
   "cell_type": "code",
   "execution_count": 7,
   "metadata": {},
   "outputs": [
    {
     "name": "stderr",
     "output_type": "stream",
     "text": [
      "/var/folders/lh/tw7lgns53bsgp8s5xtzzd4rw0000gp/T/ipykernel_76575/2090116681.py:2: SettingWithCopyWarning: \n",
      "A value is trying to be set on a copy of a slice from a DataFrame.\n",
      "Try using .loc[row_indexer,col_indexer] = value instead\n",
      "\n",
      "See the caveats in the documentation: https://pandas.pydata.org/pandas-docs/stable/user_guide/indexing.html#returning-a-view-versus-a-copy\n",
      "  df['pct_change'] = df.groupby(['symbol'])['Close'].pct_change()\n"
     ]
    }
   ],
   "source": [
    "df = all_data[['Date','Close','symbol']]\n",
    "df['pct_change'] = df.groupby(['symbol'])['Close'].pct_change()"
   ]
  },
  {
   "cell_type": "code",
   "execution_count": 8,
   "metadata": {},
   "outputs": [],
   "source": [
    "stock_info = data[['symbol','company_name','sector']].drop_duplicates()"
   ]
  },
  {
   "cell_type": "code",
   "execution_count": 9,
   "metadata": {},
   "outputs": [],
   "source": [
    "df = df.merge(stock_info, on = 'symbol')"
   ]
  },
  {
   "cell_type": "code",
   "execution_count": 13,
   "metadata": {},
   "outputs": [],
   "source": [
    "df = df.drop_duplicates().dropna()"
   ]
  },
  {
   "cell_type": "code",
   "execution_count": 14,
   "metadata": {},
   "outputs": [
    {
     "data": {
      "text/html": [
       "<div>\n",
       "<style scoped>\n",
       "    .dataframe tbody tr th:only-of-type {\n",
       "        vertical-align: middle;\n",
       "    }\n",
       "\n",
       "    .dataframe tbody tr th {\n",
       "        vertical-align: top;\n",
       "    }\n",
       "\n",
       "    .dataframe thead th {\n",
       "        text-align: right;\n",
       "    }\n",
       "</style>\n",
       "<table border=\"1\" class=\"dataframe\">\n",
       "  <thead>\n",
       "    <tr style=\"text-align: right;\">\n",
       "      <th></th>\n",
       "      <th>Date</th>\n",
       "      <th>Close</th>\n",
       "      <th>symbol</th>\n",
       "      <th>pct_change</th>\n",
       "      <th>company_name</th>\n",
       "      <th>sector</th>\n",
       "    </tr>\n",
       "  </thead>\n",
       "  <tbody>\n",
       "    <tr>\n",
       "      <th>1</th>\n",
       "      <td>2021-05-04</td>\n",
       "      <td>130.899994</td>\n",
       "      <td>A</td>\n",
       "      <td>-0.017194</td>\n",
       "      <td>Agilent Technologies Inc</td>\n",
       "      <td>Health Care</td>\n",
       "    </tr>\n",
       "    <tr>\n",
       "      <th>2</th>\n",
       "      <td>2021-05-05</td>\n",
       "      <td>133.369995</td>\n",
       "      <td>A</td>\n",
       "      <td>0.018869</td>\n",
       "      <td>Agilent Technologies Inc</td>\n",
       "      <td>Health Care</td>\n",
       "    </tr>\n",
       "    <tr>\n",
       "      <th>3</th>\n",
       "      <td>2021-05-06</td>\n",
       "      <td>132.399994</td>\n",
       "      <td>A</td>\n",
       "      <td>-0.007273</td>\n",
       "      <td>Agilent Technologies Inc</td>\n",
       "      <td>Health Care</td>\n",
       "    </tr>\n",
       "    <tr>\n",
       "      <th>4</th>\n",
       "      <td>2021-05-07</td>\n",
       "      <td>133.899994</td>\n",
       "      <td>A</td>\n",
       "      <td>0.011329</td>\n",
       "      <td>Agilent Technologies Inc</td>\n",
       "      <td>Health Care</td>\n",
       "    </tr>\n",
       "    <tr>\n",
       "      <th>5</th>\n",
       "      <td>2021-05-10</td>\n",
       "      <td>131.869995</td>\n",
       "      <td>A</td>\n",
       "      <td>-0.015161</td>\n",
       "      <td>Agilent Technologies Inc</td>\n",
       "      <td>Health Care</td>\n",
       "    </tr>\n",
       "    <tr>\n",
       "      <th>...</th>\n",
       "      <td>...</td>\n",
       "      <td>...</td>\n",
       "      <td>...</td>\n",
       "      <td>...</td>\n",
       "      <td>...</td>\n",
       "      <td>...</td>\n",
       "    </tr>\n",
       "    <tr>\n",
       "      <th>115639</th>\n",
       "      <td>2022-04-27</td>\n",
       "      <td>178.470001</td>\n",
       "      <td>ZTS</td>\n",
       "      <td>0.008476</td>\n",
       "      <td>Zoetis</td>\n",
       "      <td>Health Care</td>\n",
       "    </tr>\n",
       "    <tr>\n",
       "      <th>115640</th>\n",
       "      <td>2022-04-28</td>\n",
       "      <td>181.309998</td>\n",
       "      <td>ZTS</td>\n",
       "      <td>0.015913</td>\n",
       "      <td>Zoetis</td>\n",
       "      <td>Health Care</td>\n",
       "    </tr>\n",
       "    <tr>\n",
       "      <th>115641</th>\n",
       "      <td>2022-04-29</td>\n",
       "      <td>177.250000</td>\n",
       "      <td>ZTS</td>\n",
       "      <td>-0.022393</td>\n",
       "      <td>Zoetis</td>\n",
       "      <td>Health Care</td>\n",
       "    </tr>\n",
       "    <tr>\n",
       "      <th>115642</th>\n",
       "      <td>2022-05-02</td>\n",
       "      <td>174.669998</td>\n",
       "      <td>ZTS</td>\n",
       "      <td>-0.014556</td>\n",
       "      <td>Zoetis</td>\n",
       "      <td>Health Care</td>\n",
       "    </tr>\n",
       "    <tr>\n",
       "      <th>115643</th>\n",
       "      <td>2022-05-03</td>\n",
       "      <td>174.024994</td>\n",
       "      <td>ZTS</td>\n",
       "      <td>-0.003693</td>\n",
       "      <td>Zoetis</td>\n",
       "      <td>Health Care</td>\n",
       "    </tr>\n",
       "  </tbody>\n",
       "</table>\n",
       "<p>115154 rows × 6 columns</p>\n",
       "</div>"
      ],
      "text/plain": [
       "             Date       Close symbol  pct_change              company_name  \\\n",
       "1      2021-05-04  130.899994      A   -0.017194  Agilent Technologies Inc   \n",
       "2      2021-05-05  133.369995      A    0.018869  Agilent Technologies Inc   \n",
       "3      2021-05-06  132.399994      A   -0.007273  Agilent Technologies Inc   \n",
       "4      2021-05-07  133.899994      A    0.011329  Agilent Technologies Inc   \n",
       "5      2021-05-10  131.869995      A   -0.015161  Agilent Technologies Inc   \n",
       "...           ...         ...    ...         ...                       ...   \n",
       "115639 2022-04-27  178.470001    ZTS    0.008476                    Zoetis   \n",
       "115640 2022-04-28  181.309998    ZTS    0.015913                    Zoetis   \n",
       "115641 2022-04-29  177.250000    ZTS   -0.022393                    Zoetis   \n",
       "115642 2022-05-02  174.669998    ZTS   -0.014556                    Zoetis   \n",
       "115643 2022-05-03  174.024994    ZTS   -0.003693                    Zoetis   \n",
       "\n",
       "             sector  \n",
       "1       Health Care  \n",
       "2       Health Care  \n",
       "3       Health Care  \n",
       "4       Health Care  \n",
       "5       Health Care  \n",
       "...             ...  \n",
       "115639  Health Care  \n",
       "115640  Health Care  \n",
       "115641  Health Care  \n",
       "115642  Health Care  \n",
       "115643  Health Care  \n",
       "\n",
       "[115154 rows x 6 columns]"
      ]
     },
     "execution_count": 14,
     "metadata": {},
     "output_type": "execute_result"
    }
   ],
   "source": [
    "df['Date'] = pd.to_datetime(df['Date'], yearfirst = True)\n",
    "df"
   ]
  },
  {
   "cell_type": "code",
   "execution_count": 176,
   "metadata": {},
   "outputs": [
    {
     "data": {
      "image/png": "[encoded data removed]",
      "text/plain": [
       "<Figure size 432x288 with 1 Axes>"
      ]
     },
     "metadata": {
      "needs_background": "light"
     },
     "output_type": "display_data"
    }
   ],
   "source": [
    "for stock in df['symbol'].unique():\n",
    "    x = df[df['symbol'] == stock]\n",
    "    plt.plot(x['Date'], x['pct_change'])"
   ]
  },
  {
   "cell_type": "code",
   "execution_count": 15,
   "metadata": {},
   "outputs": [],
   "source": [
    "df.to_csv('sp500_manipulated.csv', index = False)"
   ]
  },
  {
   "cell_type": "code",
   "execution_count": 16,
   "metadata": {},
   "outputs": [],
   "source": [
    "df_wide = df.pivot_table(index = 'Date', columns = 'symbol', values = 'pct_change').dropna()"
   ]
  },
  {
   "cell_type": "code",
   "execution_count": 18,
   "metadata": {},
   "outputs": [],
   "source": [
    "df_wide.to_csv('sp500_wide.csv', index = False)"
   ]
  },
  {
   "cell_type": "code",
   "execution_count": 189,
   "metadata": {},
   "outputs": [],
   "source": [
    "def get_redundant_pairs(df):\n",
    "    '''Get diagonal and lower triangular pairs of correlation matrix'''\n",
    "    pairs_to_drop = set()\n",
    "    cols = df.columns\n",
    "    for i in range(0, df.shape[1]):\n",
    "        for j in range(0, i+1):\n",
    "            pairs_to_drop.add((cols[i], cols[j]))\n",
    "    return pairs_to_drop\n",
    "\n",
    "def get_top_abs_correlations(df, n=5):\n",
    "    au_corr = df.corr().abs().unstack()\n",
    "    labels_to_drop = get_redundant_pairs(df)\n",
    "    au_corr = au_corr.drop(labels=labels_to_drop).sort_values(ascending=False)\n",
    "    return au_corr[0:n]"
   ]
  },
  {
   "cell_type": "code",
   "execution_count": 193,
   "metadata": {},
   "outputs": [],
   "source": [
    "def calculate_pvalues(df):\n",
    "    df = df.dropna()._get_numeric_data()\n",
    "    dfcols = pd.DataFrame(columns=df.columns)\n",
    "    pvalues = dfcols.transpose().join(dfcols, how='outer')\n",
    "    for r in df.columns:\n",
    "        for c in df.columns:\n",
    "            pvalues[r][c] = round(stats.pearsonr(df[r], df[c])[1], 4)\n",
    "    return pvalues"
   ]
  },
  {
   "cell_type": "code",
   "execution_count": 194,
   "metadata": {},
   "outputs": [],
   "source": [
    "pvals = calculate_pvalues(df_wide)\n",
    "corrs = df_wide.corr()"
   ]
  },
  {
   "cell_type": "code",
   "execution_count": 195,
   "metadata": {},
   "outputs": [],
   "source": [
    "significant_pairs = pvals[pvals < 0.05].unstack().dropna()"
   ]
  },
  {
   "cell_type": "code",
   "execution_count": 196,
   "metadata": {},
   "outputs": [
    {
     "data": {
      "text/plain": [
       "     symbol\n",
       "A    A            0.0\n",
       "     AAL       0.0044\n",
       "     AAP          0.0\n",
       "     AAPL         0.0\n",
       "     ABBV      0.0452\n",
       "                ...  \n",
       "ZTS  XYL          0.0\n",
       "     YUM          0.0\n",
       "     ZBH        0.006\n",
       "     ZBRA         0.0\n",
       "     ZTS          0.0\n",
       "Length: 174801, dtype: object"
      ]
     },
     "execution_count": 196,
     "metadata": {},
     "output_type": "execute_result"
    }
   ],
   "source": [
    "significant_pairs"
   ]
  },
  {
   "cell_type": "code",
   "execution_count": 197,
   "metadata": {},
   "outputs": [],
   "source": [
    "sdf = significant_pairs.to_frame()\n",
    "sdf.index = sdf.index.rename(['symbol1','symbol2'])\n",
    "sdf = sdf.reset_index()\n",
    "\n",
    "cdf = corrs.unstack().to_frame()\n",
    "cdf.index = cdf.index.rename(['symbol1','symbol2'])\n",
    "cdf = cdf.reset_index()"
   ]
  },
  {
   "cell_type": "code",
   "execution_count": 198,
   "metadata": {},
   "outputs": [],
   "source": [
    "joined = sdf.merge(cdf, on = ['symbol1','symbol2'])\n",
    "joined = joined.rename(columns = {'0_x':'pval','0_y':'weight'})"
   ]
  },
  {
   "cell_type": "code",
   "execution_count": 201,
   "metadata": {},
   "outputs": [],
   "source": [
    "x = nx.from_pandas_edgelist(joined, source = 'symbol1', target='symbol2',edge_attr=['pval','weight'])"
   ]
  },
  {
   "cell_type": "code",
   "execution_count": 202,
   "metadata": {},
   "outputs": [],
   "source": [
    "node_props = data[['symbol','company_name','sector']].drop_duplicates().reset_index(drop = True)\n",
    "xattrs = node_props.set_index('symbol').to_dict('index')\n",
    "nx.set_node_attributes(x, xattrs)"
   ]
  },
  {
   "cell_type": "code",
   "execution_count": 204,
   "metadata": {},
   "outputs": [
    {
     "data": {
      "image/png": "[encoded data removed]",
      "text/plain": [
       "<Figure size 432x288 with 1 Axes>"
      ]
     },
     "metadata": {},
     "output_type": "display_data"
    }
   ],
   "source": [
    "x.remove_edges_from(nx.selfloop_edges(x))\n",
    "nx.draw(x)"
   ]
  },
  {
   "cell_type": "code",
   "execution_count": 205,
   "metadata": {},
   "outputs": [],
   "source": [
    "nx.write_gml(x, path = '/Users/lelee1/Desktop/I606/stocksci.gml')"
   ]
  }
 ],
 "metadata": {
  "interpreter": {
   "hash": "31f2aee4e71d21fbe5cf8b01ff0e069b9275f58929596ceb00d14d90e3e16cd6"
  },
  "kernelspec": {
   "display_name": "Python 3.8.9 64-bit",
   "language": "python",
   "name": "python3"
  },
  "language_info": {
   "codemirror_mode": {
    "name": "ipython",
    "version": 3
   },
   "file_extension": ".py",
   "mimetype": "text/x-python",
   "name": "python",
   "nbconvert_exporter": "python",
   "pygments_lexer": "ipython3",
   "version": "3.10.2"
  },
  "orig_nbformat": 4
 },
 "nbformat": 4,
 "nbformat_minor": 2
}
